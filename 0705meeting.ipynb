{
  "nbformat": 4,
  "nbformat_minor": 0,
  "metadata": {
    "colab": {
      "provenance": [],
      "authorship_tag": "ABX9TyOXnlTfE/Yd2fwPBwZTWpWV",
      "include_colab_link": true
    },
    "kernelspec": {
      "name": "python3",
      "display_name": "Python 3"
    },
    "language_info": {
      "name": "python"
    }
  },
  "cells": [
    {
      "cell_type": "markdown",
      "metadata": {
        "id": "view-in-github",
        "colab_type": "text"
      },
      "source": [
        "<a href=\"https://colab.research.google.com/github/jerry26432341/myTheses/blob/main/0705meeting.ipynb\" target=\"_parent\"><img src=\"https://colab.research.google.com/assets/colab-badge.svg\" alt=\"Open In Colab\"/></a>"
      ]
    },
    {
      "cell_type": "code",
      "source": [
        "!wget -O chineseStopWords.txt https://raw.githubusercontent.com/tomlinNTUB/Machine-Learning-Basics/main/Chinese%20Stopwords.txt"
      ],
      "metadata": {
        "colab": {
          "base_uri": "https://localhost:8080/"
        },
        "id": "snTSkjXPJKyi",
        "outputId": "094f3464-ecca-4b43-8f52-f320f21a2531"
      },
      "execution_count": null,
      "outputs": [
        {
          "output_type": "stream",
          "name": "stdout",
          "text": [
            "--2023-07-22 03:45:05--  https://raw.githubusercontent.com/tomlinNTUB/Machine-Learning-Basics/main/Chinese%20Stopwords.txt\n",
            "Resolving raw.githubusercontent.com (raw.githubusercontent.com)... 185.199.110.133, 185.199.109.133, 185.199.108.133, ...\n",
            "Connecting to raw.githubusercontent.com (raw.githubusercontent.com)|185.199.110.133|:443... connected.\n",
            "HTTP request sent, awaiting response... 404 Not Found\n",
            "2023-07-22 03:45:05 ERROR 404: Not Found.\n",
            "\n"
          ]
        }
      ]
    },
    {
      "cell_type": "code",
      "execution_count": null,
      "metadata": {
        "colab": {
          "base_uri": "https://localhost:8080/"
        },
        "id": "5zZRv6AXE5Ot",
        "outputId": "c78f0822-a2aa-4719-c7da-bd142daf66ec"
      },
      "outputs": [
        {
          "output_type": "stream",
          "name": "stdout",
          "text": [
            "Mounted at /content/drive\n"
          ]
        }
      ],
      "source": [
        "import pandas as pd\n",
        "import numpy as np\n",
        "import jieba\n",
        "import re\n",
        "import gensim\n",
        "import spacy\n",
        "from sklearn.feature_extraction.text import TfidfVectorizer\n",
        "from scipy.sparse import hstack, vstack\n",
        "from sklearn.svm import LinearSVC\n",
        "from joblib import dump\n",
        "from sklearn.model_selection import train_test_split\n",
        "from google.colab import drive\n",
        "\n",
        "# 掛載Google Drive\n",
        "drive.mount('/content/drive')\n",
        "\n",
        "# 读取数据\n",
        "df = pd.read_csv('/content/drive/MyDrive/shopping.csv')"
      ]
    },
    {
      "cell_type": "code",
      "source": [
        "# 检查空值\n",
        "print(df.isnull().sum())\n",
        "\n",
        "# 删除包含空值的行\n",
        "df = df.dropna()\n"
      ],
      "metadata": {
        "colab": {
          "base_uri": "https://localhost:8080/"
        },
        "id": "EfOjGDJJIhao",
        "outputId": "24e7e889-850f-4045-b19a-bdd4d8017db9"
      },
      "execution_count": null,
      "outputs": [
        {
          "output_type": "stream",
          "name": "stdout",
          "text": [
            "cat       0\n",
            "label     0\n",
            "review    1\n",
            "dtype: int64\n"
          ]
        }
      ]
    },
    {
      "cell_type": "code",
      "source": [
        "# 定义文本清洗函数\n",
        "def clean_text(text):\n",
        "    # 去除特殊字符和标点符号\n",
        "    text = re.sub(r\"[^\\w\\s]\", \"\", text)\n",
        "    # 转换为小写\n",
        "    text = text.lower()\n",
        "    return text\n",
        "\n",
        "# 清洗文本数据\n",
        "df['cleaned_review'] = df['review'].apply(clean_text)\n"
      ],
      "metadata": {
        "id": "74QyERtWImnu"
      },
      "execution_count": null,
      "outputs": []
    },
    {
      "cell_type": "code",
      "source": [
        "# 定义分词函数\n",
        "def tokenize_text(text):\n",
        "    tokens = jieba.cut(text)\n",
        "    return \" \".join(tokens)\n",
        "\n",
        "# 分词处理\n",
        "df['tokenized_review'] = df['cleaned_review'].apply(tokenize_text)\n"
      ],
      "metadata": {
        "id": "C8UQRZZmInw9",
        "colab": {
          "base_uri": "https://localhost:8080/"
        },
        "outputId": "fddc053c-ae9f-47db-ee5e-8209047fcf9b"
      },
      "execution_count": null,
      "outputs": [
        {
          "output_type": "stream",
          "name": "stderr",
          "text": [
            "Building prefix dict from the default dictionary ...\n",
            "DEBUG:jieba:Building prefix dict from the default dictionary ...\n",
            "Dumping model to file cache /tmp/jieba.cache\n",
            "DEBUG:jieba:Dumping model to file cache /tmp/jieba.cache\n",
            "Loading model cost 0.622 seconds.\n",
            "DEBUG:jieba:Loading model cost 0.622 seconds.\n",
            "Prefix dict has been built successfully.\n",
            "DEBUG:jieba:Prefix dict has been built successfully.\n"
          ]
        }
      ]
    },
    {
      "cell_type": "code",
      "source": [
        "# 定义停用词列表\n",
        "stopwords = []\n",
        "\n",
        "# 加载停用词列表\n",
        "with open('chineseStopWords.txt', 'r', encoding='utf-8') as f:\n",
        "    stopwords = [line.strip() for line in f.readlines()]\n",
        "\n",
        "# 定义停用词过滤函数\n",
        "def remove_stopwords(text):\n",
        "    words = text.split()\n",
        "    filtered_words = [word for word in words if word not in stopwords]\n",
        "    return \" \".join(filtered_words)\n",
        "\n",
        "# 停用词过滤\n",
        "df['filtered_review'] = df['tokenized_review'].apply(remove_stopwords)\n",
        "\n",
        "# 创建一个新的数据框存储预测结果\n",
        "df_predicted = pd.DataFrame({'review': df['review'], 'predicted_category': None})\n"
      ],
      "metadata": {
        "id": "JmvBm0ZZIvcg"
      },
      "execution_count": null,
      "outputs": []
    },
    {
      "cell_type": "code",
      "source": [
        "import scipy as sp\n",
        "from scipy.sparse import hstack\n",
        "\n",
        "from sklearn.feature_extraction.text import TfidfVectorizer\n",
        "from scipy.sparse import hstack\n",
        "from gensim.models.doc2vec import Doc2Vec, TaggedDocument\n",
        "\n",
        "# 使用TF-IDF进行特征提取\n",
        "tfidf_vectorizer = TfidfVectorizer()\n",
        "tfidf_features = tfidf_vectorizer.fit_transform(df['filtered_review'])\n",
        "\n",
        "# 使用Doc2Vec进行特征提取\n",
        "tagged_documents = [TaggedDocument(words=jieba.lcut(text), tags=[i]) for i, text in enumerate(df['filtered_review'])]\n",
        "doc2vec_model = Doc2Vec(tagged_documents, vector_size=100, window=5, min_count=5, epochs=10)\n",
        "doc2vec_features = np.array([doc2vec_model.infer_vector(jieba.lcut(text)) for text in df['filtered_review']])\n",
        "\n",
        "# 將doc2vec_features轉換為稀疏矩陣\n",
        "doc2vec_features_sparse = sp.sparse.csr_matrix(doc2vec_features)\n",
        "\n",
        "# 合併TF-IDF和Doc2Vec特徵\n",
        "feature_matrix = sp.sparse.hstack((tfidf_features, doc2vec_features_sparse))\n",
        "\n",
        "# 打印特征矩阵的维度\n",
        "print(\"特征矩阵维度:\", feature_matrix.shape)\n"
      ],
      "metadata": {
        "id": "FwU8ajV3LjHi",
        "colab": {
          "base_uri": "https://localhost:8080/"
        },
        "outputId": "f5cb39c5-5831-408c-c11f-36fd155100f7"
      },
      "execution_count": null,
      "outputs": [
        {
          "output_type": "stream",
          "name": "stdout",
          "text": [
            "特征矩阵维度: (62773, 68232)\n"
          ]
        }
      ]
    },
    {
      "cell_type": "code",
      "source": [
        "# 计算每个类别的80%数据数量\n",
        "category_counts = df['cat'].value_counts()\n",
        "test_size_percent = 0.8\n",
        "category_test_sizes = (category_counts * test_size_percent).astype(int)\n",
        "print(category_test_sizes)"
      ],
      "metadata": {
        "colab": {
          "base_uri": "https://localhost:8080/"
        },
        "id": "jkLFAXZ224K8",
        "outputId": "0bd8601a-d651-46fb-af85-502e6837bbd2"
      },
      "execution_count": null,
      "outputs": [
        {
          "output_type": "stream",
          "name": "stdout",
          "text": [
            "平板     8000\n",
            "水果     8000\n",
            "洗发水    8000\n",
            "衣服     8000\n",
            "酒店     8000\n",
            "计算机    3193\n",
            "书籍     3080\n",
            "手机     1858\n",
            "蒙牛     1626\n",
            "热水器     459\n",
            "Name: cat, dtype: int64\n"
          ]
        }
      ]
    },
    {
      "cell_type": "code",
      "source": [
        "import numpy as np\n",
        "from sklearn.model_selection import train_test_split\n",
        "from scipy.sparse import vstack\n",
        "\n",
        "# 创建空的训练集和测试集索引\n",
        "X_train_indices = []\n",
        "X_test_indices = []\n",
        "\n",
        "# 遍历每个类别\n",
        "for category in category_test_sizes.index:\n",
        "    category_indices = df[df['cat'] == category].index\n",
        "    category_size = len(category_indices)\n",
        "\n",
        "    # 计算用于训练的样本数量\n",
        "    train_size = int(category_size * train_ratio)\n",
        "\n",
        "    # 随机选择训练集的索引\n",
        "    train_indices = np.random.choice(category_indices, size=train_size, replace=False)\n",
        "\n",
        "    # 将剩余的索引作为测试集的索引\n",
        "    test_indices = list(set(category_indices) - set(train_indices))\n",
        "\n",
        "   # 确保测试集索引在有效范围内\n",
        "    test_indices = [idx for idx in test_indices if idx < feature_matrix.shape[0]]\n",
        "\n",
        "# 将训练集和测试集的索引添加到最终的索引列表中\n",
        "X_train_indices.extend(train_indices)\n",
        "X_test_indices.extend(test_indices)\n",
        "\n",
        "\n",
        "# 将索引转换为特征矩阵的稀疏矩阵索引\n",
        "X_train_indices_sparse = np.array(X_train_indices)\n",
        "X_test_indices_sparse = np.array(X_test_indices)\n",
        "\n",
        "# 打印特征矩阵的维度\n",
        "print(\"特征矩阵维度:\", feature_matrix.shape)\n",
        "print(\"训练集索引范围:\", X_train_indices_sparse.min(), \"-\", X_train_indices_sparse.max())\n",
        "print(\"测试集索引范围:\", X_test_indices_sparse.min(), \"-\", X_test_indices_sparse.max())\n",
        "\n",
        "# 将索引转换为稀疏矩阵\n",
        "X_train_final = vstack([feature_matrix[i] for i in X_train_indices_sparse])\n",
        "X_test_final = vstack([feature_matrix[i] for i in X_test_indices_sparse])\n",
        "\n",
        "# 打印最终的训练集和测试集维度\n",
        "print(\"最终训练集维度:\", X_train_final.shape)\n",
        "print(\"最终测试集维度:\", X_test_final.shape)\n"
      ],
      "metadata": {
        "colab": {
          "base_uri": "https://localhost:8080/",
          "height": 244
        },
        "id": "jg3lWaHjWp53",
        "outputId": "9ffd9fa3-44b3-4f91-dd9f-972daa9de044"
      },
      "execution_count": null,
      "outputs": [
        {
          "output_type": "error",
          "ename": "NameError",
          "evalue": "ignored",
          "traceback": [
            "\u001b[0;31m---------------------------------------------------------------------------\u001b[0m",
            "\u001b[0;31mNameError\u001b[0m                                 Traceback (most recent call last)",
            "\u001b[0;32m<ipython-input-11-1f3bb8ce79e1>\u001b[0m in \u001b[0;36m<cell line: 10>\u001b[0;34m()\u001b[0m\n\u001b[1;32m     13\u001b[0m \u001b[0;34m\u001b[0m\u001b[0m\n\u001b[1;32m     14\u001b[0m     \u001b[0;31m# 计算用于训练的样本数量\u001b[0m\u001b[0;34m\u001b[0m\u001b[0;34m\u001b[0m\u001b[0m\n\u001b[0;32m---> 15\u001b[0;31m     \u001b[0mtrain_size\u001b[0m \u001b[0;34m=\u001b[0m \u001b[0mint\u001b[0m\u001b[0;34m(\u001b[0m\u001b[0mcategory_size\u001b[0m \u001b[0;34m*\u001b[0m \u001b[0mtrain_ratio\u001b[0m\u001b[0;34m)\u001b[0m\u001b[0;34m\u001b[0m\u001b[0;34m\u001b[0m\u001b[0m\n\u001b[0m\u001b[1;32m     16\u001b[0m \u001b[0;34m\u001b[0m\u001b[0m\n\u001b[1;32m     17\u001b[0m     \u001b[0;31m# 随机选择训练集的索引\u001b[0m\u001b[0;34m\u001b[0m\u001b[0;34m\u001b[0m\u001b[0m\n",
            "\u001b[0;31mNameError\u001b[0m: name 'train_ratio' is not defined"
          ]
        }
      ]
    },
    {
      "cell_type": "code",
      "source": [
        "import numpy as np\n",
        "from sklearn.svm import LinearSVC\n",
        "from sklearn.metrics import classification_report\n",
        "\n",
        "# 创建LinearSVC模型\n",
        "model = LinearSVC()\n",
        "\n",
        "# 在训练集上训练模型\n",
        "model.fit(X_train_final, df.loc[X_train_indices_sparse, 'cat'])\n",
        "\n",
        "# 在测试集上进行预测\n",
        "predictions = model.predict(X_test_final)\n",
        "\n",
        "# 打印分类报告\n",
        "print(classification_report(df.loc[X_test_indices_sparse, 'cat'], predictions))\n"
      ],
      "metadata": {
        "id": "sgdUL1CpwMjP"
      },
      "execution_count": null,
      "outputs": []
    },
    {
      "cell_type": "code",
      "source": [
        "import pandas as pd\n",
        "from google.colab import files\n",
        "\n",
        "# 重置X_test的索引并创建一个新的DataFrame\n",
        "X_test_df = pd.DataFrame(X_test_final.toarray())\n",
        "X_test_df.reset_index(drop=True, inplace=True)\n",
        "\n",
        "# 确保X_test_df和predictions的长度一致\n",
        "X_test_df = X_test_df[:len(predictions)]\n",
        "\n",
        "# 创建一个新的数据框存储预测结果\n",
        "df_predicted = pd.DataFrame({'review': df.loc[X_test_indices_sparse, 'review'],\n",
        "                             'predicted_category': predictions})\n",
        "\n",
        "# 获取预测概率\n",
        "probabilities = model.decision_function(X_test_final)\n",
        "\n",
        "# 获取前三个最高概率的类别和概率值\n",
        "top_three_indices = np.argsort(probabilities, axis=1)[:, -3:][:, ::-1]\n",
        "top_three_categories = model.classes_[top_three_indices]\n",
        "top_three_probabilities = probabilities[np.arange(len(predictions))[:, np.newaxis], top_three_indices]\n",
        "\n",
        "# 添加类别和概率列\n",
        "for i in range(3):\n",
        "    df_predicted[f'top_{i+1}_category'] = top_three_categories[:, i]\n",
        "    df_predicted[f'top_{i+1}_probability'] = top_three_probabilities[:, i]\n",
        "\n",
        "# 输出预测结果\n",
        "print(df_predicted)\n",
        "\n",
        "# 将预测结果保存为 Excel 文件\n",
        "df_predicted.to_excel('predictions_with_probabilities.xlsx', index=False)\n",
        "# files.download('predictions_with_probabilities.xlsx')\n"
      ],
      "metadata": {
        "id": "nRkauf2eOjKx"
      },
      "execution_count": null,
      "outputs": []
    },
    {
      "cell_type": "code",
      "source": [
        "# 读取原始数据\n",
        "df_original = pd.read_csv('/content/drive/MyDrive/shopping.csv')\n",
        "\n",
        "# 匹配预测结果和原始数据\n",
        "df_predicted['true_category'] = df_original['cat'].values[df_predicted.index]\n",
        "\n",
        "# 添加一列用于标识预测的正确性\n",
        "df_predicted['prediction_correct'] = (df_predicted['predicted_category'] == df_predicted['true_category'])\n",
        "\n",
        "# 进一步分析和区分预测的正确和错误\n",
        "# 正确的预测\n",
        "correct_predictions = df_predicted[df_predicted['prediction_correct'] == True]\n",
        "\n",
        "# 错误的预测\n",
        "incorrect_predictions = df_predicted[df_predicted['prediction_correct'] == False]\n",
        "\n",
        "# 将正确的预测保存为 Excel 文件\n",
        "correct_predictions.to_excel('correct_predictions.xlsx', index=False)\n",
        "files.download('correct_predictions.xlsx')\n",
        "\n",
        "# 将错误的预测保存为 Excel 文件\n",
        "incorrect_predictions.to_excel('incorrect_predictions.xlsx', index=False)\n",
        "files.download('incorrect_predictions.xlsx')\n"
      ],
      "metadata": {
        "id": "S1LHMNSImO5a"
      },
      "execution_count": null,
      "outputs": []
    },
    {
      "cell_type": "code",
      "source": [
        "from sklearn.metrics import accuracy_score, recall_score, precision_score, f1_score\n",
        "\n",
        "# 读取真实标签和预测结果\n",
        "y_true = df_predicted['true_category']\n",
        "y_pred = df_predicted['predicted_category']\n",
        "\n",
        "# 计算准确率\n",
        "accuracy = accuracy_score(y_true, y_pred)\n",
        "\n",
        "# 计算召回率\n",
        "recall = recall_score(y_true, y_pred, average='weighted')\n",
        "\n",
        "# 计算精确率\n",
        "precision = precision_score(y_true, y_pred, average='weighted')\n",
        "\n",
        "# 计算F1分数\n",
        "f1 = f1_score(y_true, y_pred, average='weighted')\n",
        "\n",
        "# 输出指标结果\n",
        "print(\"准确率:\", accuracy)\n",
        "print(\"召回率:\", recall)\n",
        "print(\"精确率:\", precision)\n",
        "print(\"F1分数:\", f1)\n"
      ],
      "metadata": {
        "id": "XxC_UHxp6DNg"
      },
      "execution_count": null,
      "outputs": []
    }
  ]
}